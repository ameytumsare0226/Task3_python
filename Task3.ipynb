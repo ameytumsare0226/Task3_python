{
 "cells": [
  {
   "cell_type": "markdown",
   "id": "afb1ae9f-100b-4ce2-9b5e-0727f208b6c1",
   "metadata": {},
   "source": [
    "# List Methods"
   ]
  },
  {
   "cell_type": "markdown",
   "id": "a8a6673d-6ce7-463b-bbc3-206d55406dad",
   "metadata": {},
   "source": [
    "#### **append()** :- Adds an element at the end of the list "
   ]
  },
  {
   "cell_type": "code",
   "execution_count": 28,
   "id": "ddb082c1-9e6b-484c-8e7b-dde5cb5ddbb0",
   "metadata": {},
   "outputs": [
    {
     "name": "stdout",
     "output_type": "stream",
     "text": [
      "[10, 20, 30, 40, 24.3, 44.44, 69.69, 'Nick', 'True', 'sam']\n"
     ]
    }
   ],
   "source": [
    "l1 = [10,20,30,40,24.3,44.44,69.69,'Nick','True']\n",
    "l1.append(\"sam\")\n",
    "print(l1)"
   ]
  },
  {
   "cell_type": "markdown",
   "id": "d6323a85-79be-4b93-835a-6f341c1b076b",
   "metadata": {},
   "source": [
    "#### clear() :-\tRemoves all the elements from the list"
   ]
  },
  {
   "cell_type": "code",
   "execution_count": 52,
   "id": "d6324ae1-80c0-4f30-ab00-7527cd234e93",
   "metadata": {},
   "outputs": [
    {
     "name": "stdout",
     "output_type": "stream",
     "text": [
      "[10, 20, 30, 40, 24.3, 44.44, 69.69, 'Nick', 'True']\n",
      "[]\n"
     ]
    }
   ],
   "source": [
    "l1 = [10,20,30,40,24.3,44.44,69.69,'Nick','True']\n",
    "print(l1)\n",
    "l1.clear()\n",
    "print(l1)\n"
   ]
  },
  {
   "cell_type": "markdown",
   "id": "f24b2da8-dcd7-40ff-90d2-e43d8e1cbce0",
   "metadata": {},
   "source": [
    "#### copy() :-\tReturns a copy of the list"
   ]
  },
  {
   "cell_type": "markdown",
   "id": "e85962bf-b5be-4e8d-8df7-c4262ba04f16",
   "metadata": {},
   "source": [
    "l1 = [10,20,30,40,24.3,44.44,69.69,'Nick','True']\n",
    "print('l1 =',l1)\n",
    "l2 = l1.copy()\n",
    "print('l2 =',l2)"
   ]
  },
  {
   "cell_type": "markdown",
   "id": "b6008fe7-288b-4f0f-93e6-c53747e51d49",
   "metadata": {},
   "source": [
    "#### count():-\tReturns the number of elements with the specified value"
   ]
  },
  {
   "cell_type": "code",
   "execution_count": 86,
   "id": "51e889b8-e75f-439e-b982-ec37c8992d36",
   "metadata": {},
   "outputs": [
    {
     "name": "stdout",
     "output_type": "stream",
     "text": [
      "3\n"
     ]
    }
   ],
   "source": [
    "l2 = [10, 20, 30, 40, 24.3, 44.44, 69.69, 'Nick', 'True',40,4o]\n",
    "count = l2.count(40)\n",
    "print(count)"
   ]
  },
  {
   "cell_type": "markdown",
   "id": "62c365f3-c17e-4379-8779-4c528e93ae2d",
   "metadata": {},
   "source": [
    "#### extend();-\tAdd the elements of a list (or any iterable), to the end of the current list"
   ]
  },
  {
   "cell_type": "code",
   "execution_count": 115,
   "id": "b0c99330-e7f5-446e-8570-7a8e63eaf66b",
   "metadata": {},
   "outputs": [
    {
     "name": "stdout",
     "output_type": "stream",
     "text": [
      "[10, 20, 30, 40, 24.3, 44.44, 69.69, 'Nick', 'True', 'BMW', 'VOLVO', 'Audi']\n"
     ]
    }
   ],
   "source": [
    "l1 = [10,20,30,40,24.3,44.44,69.69,'Nick','True']\n",
    "l2 = ['BMW' , \"VOLVO\" , \"Audi\"]\n",
    "l1.extend(l2)\n",
    "print(l1)"
   ]
  },
  {
   "cell_type": "markdown",
   "id": "23b9e129-88fc-4d6d-bf2c-2f70a5e0a7cb",
   "metadata": {},
   "source": [
    "#### index():-\tReturns the index of the first element with the specified value"
   ]
  },
  {
   "cell_type": "code",
   "execution_count": 3,
   "id": "290ca3e3-bf5d-4150-a6a0-3e21d7248f63",
   "metadata": {},
   "outputs": [
    {
     "name": "stdout",
     "output_type": "stream",
     "text": [
      "7\n"
     ]
    }
   ],
   "source": [
    "l1 = [10,20,30,40,24.3,44.44,69.69,'Nick','True','BMW' , \"VOLVO\" , \"Audi\"]\n",
    "l2 = l1.index(\"Nick\" )\n",
    "print(l2)"
   ]
  },
  {
   "cell_type": "markdown",
   "id": "21195871-ab24-4d80-9159-964010bdc0c7",
   "metadata": {},
   "source": [
    "#### insert() :-\tAdds an element at the specified position"
   ]
  },
  {
   "cell_type": "code",
   "execution_count": 32,
   "id": "2926f11c-7193-4150-8e25-170ca6f4d3de",
   "metadata": {},
   "outputs": [
    {
     "name": "stdout",
     "output_type": "stream",
     "text": [
      "[10, 20, 30, 40, 24.3, 'BMW', 44.44, 69.69, 'Nick', 'True']\n"
     ]
    }
   ],
   "source": [
    "l1 = [10,20,30,40,24.3,44.44,69.69,'Nick','True']\n",
    "l1.insert(5 ,'BMW')\n",
    "print(l1)"
   ]
  },
  {
   "cell_type": "markdown",
   "id": "489e4837-f709-479f-bd29-faec3c955e32",
   "metadata": {},
   "source": [
    "#### pop():-\tRemoves the element at the specified position"
   ]
  },
  {
   "cell_type": "code",
   "execution_count": 40,
   "id": "1da704fc-2763-40c2-b214-51de55be50f9",
   "metadata": {},
   "outputs": [
    {
     "name": "stdout",
     "output_type": "stream",
     "text": [
      "[10, 20, 30, 40, 24.3, 69.69, 'Nick', 'True']\n"
     ]
    }
   ],
   "source": [
    "sort()\tSorts the list\n",
    "l1.pop(5)\n",
    "print(l1)"
   ]
  },
  {
   "cell_type": "markdown",
   "id": "f9dc0e41-d6a1-4a8a-9aaf-4fd65db20d9c",
   "metadata": {},
   "source": [
    "#### remove():-\tRemoves the item with the specified value"
   ]
  },
  {
   "cell_type": "code",
   "execution_count": 66,
   "id": "0aa96e62-56fe-4480-b928-ed7fd1bba9e2",
   "metadata": {},
   "outputs": [
    {
     "name": "stdout",
     "output_type": "stream",
     "text": [
      "[10, 20, 30, 40, 24.3, 44.44, 69.69, 'True']\n"
     ]
    }
   ],
   "source": [
    "l1 = [10,20,30,40,24.3,44.44,69.69,'Nick','True']\n",
    "l1.remove('Nick')\n",
    "print(l1)"
   ]
  },
  {
   "cell_type": "markdown",
   "id": "9a6bf44d-299f-400b-86c9-bdf2a335da98",
   "metadata": {},
   "source": [
    "#### reverse();-\tReverses the order of the list"
   ]
  },
  {
   "cell_type": "code",
   "execution_count": 72,
   "id": "fc360ec1-c2f4-4aa2-a5d2-4a04359545be",
   "metadata": {},
   "outputs": [
    {
     "name": "stdout",
     "output_type": "stream",
     "text": [
      "['True', 'Nick', 69.69, 44.44, 24.3, 40, 30, 20, 10]\n"
     ]
    }
   ],
   "source": [
    "l1 = [10,20,30,40,24.3,44.44,69.69,'Nick','True']\n",
    "l1.reverse()\n",
    "print(l1)"
   ]
  },
  {
   "cell_type": "markdown",
   "id": "6e2e80ca-e303-4cfa-9d55-f15c075e97cd",
   "metadata": {},
   "source": [
    "#### sort():-\tSorts the list"
   ]
  },
  {
   "cell_type": "code",
   "execution_count": 86,
   "id": "06846e6b-4fdc-4d8f-a32f-51d2a7b726bf",
   "metadata": {},
   "outputs": [
    {
     "name": "stdout",
     "output_type": "stream",
     "text": [
      "[2, 10, 11, 20, 22, 24.3, 30, 40, 44.44, 69.69, 81]\n",
      "['bob', 'john', 'mick', 'nick']\n"
     ]
    }
   ],
   "source": [
    "l1 = [10,20,30,2,40,81,22,11,24.3,44.44,69.69]\n",
    "l2 = ['nick','john','mick','bob']\n",
    "l1.sort()\n",
    "l2.sort()\n",
    "print(l1)\n",
    "print(l2)"
   ]
  },
  {
   "cell_type": "markdown",
   "id": "4629ea46-b65e-4b0e-87fe-35b973c71ae6",
   "metadata": {},
   "source": [
    "# Dictionary Methods"
   ]
  },
  {
   "cell_type": "markdown",
   "id": "c0fe22a8-f84c-4baa-8e2e-aa3e95c9333b",
   "metadata": {},
   "source": [
    "#### clear():-\tRemoves all the elements from the dictionary"
   ]
  },
  {
   "cell_type": "code",
   "execution_count": 5,
   "id": "c6cd2136-765b-4c66-944e-38504b84061a",
   "metadata": {},
   "outputs": [
    {
     "name": "stdout",
     "output_type": "stream",
     "text": [
      "{'name': 'Bob', 'Section': 'B', 'age': 34}\n"
     ]
    }
   ],
   "source": [
    "student = {\"name\" : 'Bob',\n",
    "           \"Section\" : 'B',\n",
    "           \"age\" : 34}\n",
    "print(student)"
   ]
  },
  {
   "cell_type": "markdown",
   "id": "bfa2549c-4424-4600-828c-5d165959ee21",
   "metadata": {},
   "source": [
    "#### copy():-\tReturns a copy of the dictionary\n"
   ]
  },
  {
   "cell_type": "code",
   "execution_count": 57,
   "id": "ca645813-28cb-4792-9886-e7d5c9c3d555",
   "metadata": {},
   "outputs": [
    {
     "data": {
      "text/plain": [
       "{'name': 'Bob', 'Section': 'B', 'age': 34}"
      ]
     },
     "execution_count": 57,
     "metadata": {},
     "output_type": "execute_result"
    }
   ],
   "source": [
    "student = {\"name\" : 'Bob',\n",
    "           \"Seion\" : 'B',\n",
    "           \"age\" : 34}\n",
    "student.copy()"
   ]
  },
  {
   "cell_type": "markdown",
   "id": "b6b5d0df-b2de-4b6e-bcb2-66e99a4ff164",
   "metadata": {},
   "source": [
    "#### fromkeys()\t:-Returns a dictionary with the specified keys and values "
   ]
  },
  {
   "cell_type": "code",
   "execution_count": 67,
   "id": "05b6b877-c9b0-42c4-9180-f0e302e43850",
   "metadata": {},
   "outputs": [
    {
     "name": "stdout",
     "output_type": "stream",
     "text": [
      "{'key1': 0, 'key2': 0, 'key3': 0}\n"
     ]
    }
   ],
   "source": [
    "x = ('key1', 'key2', 'key3')\n",
    "y = 0\n",
    "Dict = dict.fromkeys(x,y)\n",
    "print(Dict)"
   ]
  },
  {
   "cell_type": "markdown",
   "id": "6c9e2e1d-4c23-4a60-8dee-0f4e5ffb7bc5",
   "metadata": {},
   "source": [
    "#### get():-\tReturns the value of the specified key"
   ]
  },
  {
   "cell_type": "code",
   "execution_count": 70,
   "id": "00d36da8-8483-4a51-9af3-a7e34ca03c8b",
   "metadata": {},
   "outputs": [
    {
     "data": {
      "text/plain": [
       "'Bob'"
      ]
     },
     "execution_count": 70,
     "metadata": {},
     "output_type": "execute_result"
    }
   ],
   "source": [
    "student = {\"name\" : 'Bob',\n",
    "           \"Seion\" : 'B',\n",
    "           \"age\" : 34}\n",
    "student.get(\"name\")"
   ]
  },
  {
   "cell_type": "markdown",
   "id": "86f6a035-1897-4a37-b942-c708ef198f13",
   "metadata": {},
   "source": [
    "#### keys():-\tReturns a list containing the dictionary's keys\n"
   ]
  },
  {
   "cell_type": "code",
   "execution_count": 76,
   "id": "716b4157-857a-47e8-aaea-492ef10e839a",
   "metadata": {},
   "outputs": [
    {
     "data": {
      "text/plain": [
       "34"
      ]
     },
     "execution_count": 76,
     "metadata": {},
     "output_type": "execute_result"
    }
   ],
   "source": [
    "student = {\"name\" : 'Bob',\n",
    "           \"Seion\" : 'B',\n",
    "           \"age\" : 34}\n",
    "student.get(\"age\")"
   ]
  },
  {
   "cell_type": "markdown",
   "id": "7fe44c57-28e4-4a84-8353-58cf26febf8d",
   "metadata": {},
   "source": [
    "#### items():-\tReturns a list containing a tuple for each key value pair\n"
   ]
  },
  {
   "cell_type": "code",
   "execution_count": 83,
   "id": "740d1b33-e7e8-4952-80db-6d55242c8c6e",
   "metadata": {},
   "outputs": [
    {
     "name": "stdout",
     "output_type": "stream",
     "text": [
      "dict_items([('name', 'Bob'), ('Seion', 'B'), ('age', 34)])\n"
     ]
    }
   ],
   "source": [
    "stu = {\"name\" : 'Bob',\n",
    "           \"Seion\" : 'B',\n",
    "           \"age\" : 34}\n",
    "student_data = stu.items()\n",
    "print(student_data)"
   ]
  },
  {
   "cell_type": "markdown",
   "id": "5c9ffae8-3cc1-4160-b787-d798fd625d6f",
   "metadata": {},
   "source": [
    "#### pop():-\tRemoves the element with the specified key\n"
   ]
  },
  {
   "cell_type": "code",
   "execution_count": 132,
   "id": "a13f8d9c-05e3-48e6-837a-5df7cd1efd5e",
   "metadata": {},
   "outputs": [
    {
     "name": "stdout",
     "output_type": "stream",
     "text": [
      "{'brand': 'Ford', 'year': 1964}\n"
     ]
    }
   ],
   "source": [
    "car = {\n",
    "  \"brand\": \"Ford\",\n",
    "  \"model\": \"Mustang\",\n",
    "  \"year\": 1964\n",
    "}\n",
    "car.pop(\"model\")\n",
    "print(car)"
   ]
  },
  {
   "cell_type": "markdown",
   "id": "92b6ed50-28e3-449b-8d1c-c6c0bc1a53a7",
   "metadata": {},
   "source": [
    "#### popitem():-\tRemoves the last inserted key-value pair\n"
   ]
  },
  {
   "cell_type": "code",
   "execution_count": 139,
   "id": "b99fb7cf-4181-4ecf-911b-3c81364e3f1d",
   "metadata": {},
   "outputs": [
    {
     "name": "stdout",
     "output_type": "stream",
     "text": [
      "{'brand': 'Ford', 'model': 'Mustang'}\n"
     ]
    }
   ],
   "source": [
    "car = {\n",
    "  \"brand\": \"Ford\",\n",
    "  \"model\": \"Mustang\",\n",
    "  \"year\": 1964\n",
    "}\n",
    "car.popitem()\n",
    "print(car)"
   ]
  },
  {
   "cell_type": "markdown",
   "id": "e9014ba3-a298-4e91-85d4-6a80dafc977d",
   "metadata": {},
   "source": [
    "#### setdefault():-\tReturns the value of the specified key. "
   ]
  },
  {
   "cell_type": "code",
   "execution_count": 149,
   "id": "d39d9306-2714-4399-b8f1-fe7b25b503e4",
   "metadata": {},
   "outputs": [
    {
     "name": "stdout",
     "output_type": "stream",
     "text": [
      "Mustang\n"
     ]
    }
   ],
   "source": [
    "car = {\n",
    "  \"brand\": \"Ford\",\n",
    "  \"model\": \"Mustang\",\n",
    "  \"year\": 1964\n",
    "}\n",
    "print(car.setdefault('model',\"price\"))\n"
   ]
  },
  {
   "cell_type": "markdown",
   "id": "2f549ce7-d0ab-4a23-9d69-ed265b052cee",
   "metadata": {},
   "source": [
    "#### update():-\tUpdates the dictionary with the specified key-value pairs\n"
   ]
  },
  {
   "cell_type": "code",
   "execution_count": 159,
   "id": "b9280d2a-6e32-443c-8f99-2801252d45f3",
   "metadata": {},
   "outputs": [
    {
     "name": "stdout",
     "output_type": "stream",
     "text": [
      "{'brand': 'Ford', 'model': 'Mustang', 'year': 1964, 'PRICE': 1000000}\n"
     ]
    }
   ],
   "source": [
    "car = {\n",
    "  \"brand\": \"Ford\",\n",
    "  \"model\": \"Mustang\",\n",
    "  \"year\": 1964\n",
    "}\n",
    "car.update({\"PRICE\":1000000})\n",
    "print(car)"
   ]
  },
  {
   "cell_type": "markdown",
   "id": "3a5f552c-6918-42a5-959c-f7c695eecd04",
   "metadata": {},
   "source": [
    "#### values()\t:-Returns a list of all the values in the dictionary"
   ]
  },
  {
   "cell_type": "code",
   "execution_count": 169,
   "id": "7d3a3f93-f48b-4f77-80bf-d92c6f182965",
   "metadata": {},
   "outputs": [
    {
     "name": "stdout",
     "output_type": "stream",
     "text": [
      "dict_values(['Ford', 'Mustang', 1964, 1000000])\n"
     ]
    }
   ],
   "source": [
    "car = {\n",
    "  \"brand\": \"Ford\",\n",
    "  \"model\": \"Mustang\",\n",
    "  \"year\": 1964,\n",
    "  \"PRICE\":1000000\n",
    "}\n",
    "key_list = car.values()\n",
    "print(key_list)"
   ]
  }
 ],
 "metadata": {
  "kernelspec": {
   "display_name": "Python 3 (ipykernel)",
   "language": "python",
   "name": "python3"
  },
  "language_info": {
   "codemirror_mode": {
    "name": "ipython",
    "version": 3
   },
   "file_extension": ".py",
   "mimetype": "text/x-python",
   "name": "python",
   "nbconvert_exporter": "python",
   "pygments_lexer": "ipython3",
   "version": "3.12.4"
  }
 },
 "nbformat": 4,
 "nbformat_minor": 5
}
